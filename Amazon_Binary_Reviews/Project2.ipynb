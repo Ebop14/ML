{
  "cells": [
    {
      "cell_type": "code",
      "execution_count": null,
      "metadata": {
        "colab": {
          "base_uri": "https://localhost:8080/"
        },
        "id": "_wXypATEZBd8",
        "outputId": "8b46a9fb-4f64-416e-9ca3-064772b48a5d"
      },
      "outputs": [
        {
          "output_type": "stream",
          "name": "stdout",
          "text": [
            "Drive already mounted at /content/drive; to attempt to forcibly remount, call drive.mount(\"/content/drive\", force_remount=True).\n"
          ]
        }
      ],
      "source": [
        "## This will connect your Google drive with your Colab\n",
        "from google.colab import drive\n",
        "drive.mount('/content/drive')"
      ]
    },
    {
      "cell_type": "code",
      "execution_count": null,
      "metadata": {
        "colab": {
          "base_uri": "https://localhost:8080/"
        },
        "id": "7FoQDmJMCGPo",
        "outputId": "5554d17c-e809-46e2-825c-e78830650b7e"
      },
      "outputs": [
        {
          "output_type": "stream",
          "name": "stdout",
          "text": [
            "Requirement already satisfied: vaderSentiment in /usr/local/lib/python3.10/dist-packages (3.3.2)\n",
            "Requirement already satisfied: requests in /usr/local/lib/python3.10/dist-packages (from vaderSentiment) (2.31.0)\n",
            "Requirement already satisfied: charset-normalizer<4,>=2 in /usr/local/lib/python3.10/dist-packages (from requests->vaderSentiment) (3.3.1)\n",
            "Requirement already satisfied: idna<4,>=2.5 in /usr/local/lib/python3.10/dist-packages (from requests->vaderSentiment) (3.4)\n",
            "Requirement already satisfied: urllib3<3,>=1.21.1 in /usr/local/lib/python3.10/dist-packages (from requests->vaderSentiment) (2.0.7)\n",
            "Requirement already satisfied: certifi>=2017.4.17 in /usr/local/lib/python3.10/dist-packages (from requests->vaderSentiment) (2023.7.22)\n"
          ]
        }
      ],
      "source": [
        "!pip install vaderSentiment"
      ]
    },
    {
      "cell_type": "markdown",
      "metadata": {
        "id": "-8HdhAk5JhFL"
      },
      "source": [
        "# Import necessary packages"
      ]
    },
    {
      "cell_type": "code",
      "execution_count": null,
      "metadata": {
        "id": "yG5BPvRqJl84"
      },
      "outputs": [],
      "source": [
        "import pandas as pd\n",
        "import matplotlib.pyplot as plt\n",
        "\n",
        "from sklearn.feature_extraction.text import TfidfVectorizer\n",
        "from vaderSentiment.vaderSentiment import SentimentIntensityAnalyzer\n",
        "\n",
        "from sklearn.linear_model import LogisticRegression\n",
        "from sklearn.naive_bayes import GaussianNB\n",
        "from sklearn.neighbors import KNeighborsClassifier\n",
        "\n",
        "from sklearn.model_selection import cross_val_predict\n",
        "from sklearn.metrics import confusion_matrix, roc_curve, roc_auc_score, f1_score, accuracy_score\n"
      ]
    },
    {
      "cell_type": "markdown",
      "metadata": {
        "id": "zEJ9dg61CW4N"
      },
      "source": [
        "# Part 1"
      ]
    },
    {
      "cell_type": "markdown",
      "metadata": {
        "id": "QDWaq8sjqil_"
      },
      "source": [
        "## Reading in train and test files"
      ]
    },
    {
      "cell_type": "code",
      "execution_count": null,
      "metadata": {
        "colab": {
          "base_uri": "https://localhost:8080/"
        },
        "id": "afAc0Le_qtvR",
        "outputId": "23db0996-8e1f-4057-f4f9-f11ddb10fc9b"
      },
      "outputs": [
        {
          "output_type": "stream",
          "name": "stdout",
          "text": [
            "Index(['reviewText', 'id'], dtype='object')\n",
            "                                          reviewText   id\n",
            "0  all of the reviews for this product are fake.A...  ab0\n",
            "1                     wrong part. our fault.One Star  ab1\n",
            "2           this wire set it really sucks!!!One Star  ab2\n",
            "3  first use, it leaked instantly. even at 5 buck...  ab3\n",
            "4                                 didn't fitOne Star  ab4\n",
            "0        0\n",
            "1        0\n",
            "2        0\n",
            "3        0\n",
            "4        0\n",
            "        ..\n",
            "29184    1\n",
            "29185    1\n",
            "29186    1\n",
            "29187    1\n",
            "29188    1\n",
            "Name: overall, Length: 29189, dtype: int64\n"
          ]
        }
      ],
      "source": [
        "# import the data into a dataframe df\n",
        "df = pd.read_csv('/content/drive/Shareddrives/CS74/Project2/train.csv')\n",
        "\n",
        "test_df = pd.read_csv('/content/drive/Shareddrives/CS74/Project2/test.csv')\n",
        "\n",
        "excluded_col = ['reviewTime', 'reviewerID', 'summary', 'reviewerName', 'unixReviewTime', 'image', 'style', 'asin', 'vote', 'category', 'verified']\n",
        "text_col = 'reviewText'\n",
        "\n",
        "df['reviewText'] = df['reviewText'] + df['summary']\n",
        "test_df['reviewText'] = test_df['reviewText'] + test_df['summary']\n",
        "\n",
        "\n",
        "#drop excluded columns\n",
        "df = df.drop(columns=excluded_col)\n",
        "test_df = test_df.drop(columns=excluded_col)\n",
        "\n",
        "#handle NaN values\n",
        "df[text_col].fillna('', inplace=True)\n",
        "test_df[text_col].fillna('', inplace=True)\n",
        "\n",
        "# df['vote'].fillna(0, inplace=True)\n",
        "# test_df['vote'].fillna(0, inplace=True)\n",
        "\n",
        "#make overall reviews binary\n",
        "df['overall'] = df['overall'].apply(lambda x: 0 if x<=3 else 1)\n",
        "\n",
        "y_train = df['overall']\n",
        "df = df.drop('overall', axis=1)\n",
        "print(df.columns)\n",
        "print(df.head())\n",
        "print(y_train)"
      ]
    },
    {
      "cell_type": "markdown",
      "metadata": {
        "id": "fTSlTNeapqkD"
      },
      "source": [
        "## Text preprocessing"
      ]
    },
    {
      "cell_type": "markdown",
      "metadata": {
        "id": "stQKPAAqpwLK"
      },
      "source": [
        "We will use an approach similar to bag of words to train our model. This means that we need to separate the review text into individual words, and then have columns in the dataframe for each unique word, with the count of the word for each review."
      ]
    },
    {
      "cell_type": "code",
      "execution_count": null,
      "metadata": {
        "id": "NgnjvKc2pp7v"
      },
      "outputs": [],
      "source": [
        "vectorizer = TfidfVectorizer(ngram_range=(1,3), max_features=1500)\n",
        "\n",
        "word_counts = vectorizer.fit_transform(df[text_col].tolist())\n",
        "word_counts_df = pd.DataFrame(word_counts.toarray(), columns=vectorizer.get_feature_names_out())\n",
        "text_df = pd.concat([df, word_counts_df], axis=1)\n",
        "\n",
        "test_word_counts = vectorizer.fit_transform(test_df[text_col].tolist())\n",
        "test_word_counts_df = pd.DataFrame(test_word_counts.toarray(), columns=vectorizer.get_feature_names_out())\n",
        "test_text_df = pd.concat([test_df, test_word_counts_df], axis=1)"
      ]
    },
    {
      "cell_type": "markdown",
      "metadata": {
        "id": "N1FF7rObHSHt"
      },
      "source": [
        "## Cleaning up training data\n"
      ]
    },
    {
      "cell_type": "code",
      "execution_count": null,
      "metadata": {
        "colab": {
          "base_uri": "https://localhost:8080/"
        },
        "id": "QxG6NZfPHZyE",
        "outputId": "8c6834e2-8a71-40ea-c577-209a1cef06c7"
      },
      "outputs": [
        {
          "output_type": "stream",
          "name": "stdout",
          "text": [
            "    10  100   11   12   15  16   20   30   50  70  ...  you need  you re  \\\n",
            "0  0.0  0.0  0.0  0.0  0.0   0  0.0  0.0  0.0   0  ...       0.0     0.0   \n",
            "1  0.0  0.0  0.0  0.0  0.0   0  0.0  0.0  0.0   0  ...       0.0     0.0   \n",
            "2  0.0  0.0  0.0  0.0  0.0   0  0.0  0.0  0.0   0  ...       0.0     0.0   \n",
            "3  0.0  0.0  0.0  0.0  0.0   0  0.0  0.0  0.0   0  ...       0.0     0.0   \n",
            "4  0.0  0.0  0.0  0.0  0.0   0  0.0  0.0  0.0   0  ...       0.0     0.0   \n",
            "\n",
            "   you want  you want to  you will  young  your  your money  your phone  \\\n",
            "0       0.0          0.0       0.0    0.0   0.0         0.0         0.0   \n",
            "1       0.0          0.0       0.0    0.0   0.0         0.0         0.0   \n",
            "2       0.0          0.0       0.0    0.0   0.0         0.0         0.0   \n",
            "3       0.0          0.0       0.0    0.0   0.0         0.0         0.0   \n",
            "4       0.0          0.0       0.0    0.0   0.0         0.0         0.0   \n",
            "\n",
            "   yourself  \n",
            "0       0.0  \n",
            "1       0.0  \n",
            "2       0.0  \n",
            "3       0.0  \n",
            "4       0.0  \n",
            "\n",
            "[5 rows x 3000 columns]     10  100   11   12   15   16   20   30   50   70  ...  you need  you re  \\\n",
            "0  0.0  0.0  0.0  0.0  0.0  0.0  0.0  0.0  0.0  0.0  ...       0.0     0.0   \n",
            "1  0.0  0.0  0.0  0.0  0.0  0.0  0.0  0.0  0.0  0.0  ...       0.0     0.0   \n",
            "2  0.0  0.0  0.0  0.0  0.0  0.0  0.0  0.0  0.0  0.0  ...       0.0     0.0   \n",
            "3  0.0  0.0  0.0  0.0  0.0  0.0  0.0  0.0  0.0  0.0  ...       0.0     0.0   \n",
            "4  0.0  0.0  0.0  0.0  0.0  0.0  0.0  0.0  0.0  0.0  ...       0.0     0.0   \n",
            "\n",
            "   you want  you want to  you will  young      your  your money  your phone  \\\n",
            "0       0.0            0       0.0    0.0  0.000000         0.0         0.0   \n",
            "1       0.0            0       0.0    0.0  0.098529         0.0         0.0   \n",
            "2       0.0            0       0.0    0.0  0.000000         0.0         0.0   \n",
            "3       0.0            0       0.0    0.0  0.000000         0.0         0.0   \n",
            "4       0.0            0       0.0    0.0  0.000000         0.0         0.0   \n",
            "\n",
            "   yourself  \n",
            "0         0  \n",
            "1         0  \n",
            "2         0  \n",
            "3         0  \n",
            "4         0  \n",
            "\n",
            "[5 rows x 3000 columns]\n"
          ]
        }
      ],
      "source": [
        "X_train = text_df.drop(text_col, axis=1)\n",
        "X_train = X_train.drop('id', axis=1)\n",
        "#y_train defined earlier\n",
        "\n",
        "X_test = test_text_df.drop(text_col, axis=1)\n",
        "X_test = X_test.drop('id', axis=1)\n",
        "\n",
        "#merge missing columns\n",
        "\n",
        "all_col = X_test.columns.tolist() + X_train.columns.tolist()\n",
        "X_train = X_train.reindex(columns=all_col, fill_value=0)\n",
        "X_test = X_test.reindex(columns=all_col, fill_value=0)\n",
        "\n",
        "print(X_train.head(), X_test.head())"
      ]
    },
    {
      "cell_type": "markdown",
      "metadata": {
        "id": "hjGhD3eRHgEK"
      },
      "source": [
        "## Cross validation of different models"
      ]
    },
    {
      "cell_type": "markdown",
      "metadata": {
        "id": "nipVq10MHkpJ"
      },
      "source": [
        "### Logistic Regression"
      ]
    },
    {
      "cell_type": "code",
      "execution_count": null,
      "metadata": {
        "colab": {
          "base_uri": "https://localhost:8080/",
          "height": 466
        },
        "id": "MAuF1J_yHoVF",
        "outputId": "078d4ec1-e4f9-4f28-907a-c082af4fcd09"
      },
      "outputs": [
        {
          "output_type": "stream",
          "name": "stdout",
          "text": [
            "[[15448  2330]\n",
            " [ 2878  8533]] 0.8083631805579558 0.8109674224180639 0.821576621329953\n"
          ]
        },
        {
          "output_type": "display_data",
          "data": {
            "text/plain": [
              "<Figure size 640x480 with 1 Axes>"
            ],
            "image/png": "[encoded data removed]"
          },
          "metadata": {}
        }
      ],
      "source": [
        "model1 = LogisticRegression()\n",
        "\n",
        "model1.fit(X_train, y_train)\n",
        "predictions = model1.predict(X_test)\n",
        "\n",
        "submission = pd.DataFrame({'preds': predictions, 'id': test_df['id']})\n",
        "\n",
        "submission.to_csv('/content/drive/Shareddrives/CS74/Project2/text_only-2.csv', index=False)\n",
        "\n",
        "\n",
        "\n",
        "predicted1 = cross_val_predict(model1, X_train, y_train, cv=5)\n",
        "# Calculate the confusion matrix\n",
        "conf_matrix = confusion_matrix(y_train, predicted1)\n",
        "\n",
        "# Calculate ROC curve and AUC\n",
        "false_positive_rate, true_positive_rate, thresholds = roc_curve(y_train, predicted1)\n",
        "plt.plot(false_positive_rate, true_positive_rate)\n",
        "\n",
        "roc_auc = roc_auc_score(y_train, predicted1)\n",
        "\n",
        "# Calculate macro F1 score\n",
        "macro_f1 = f1_score(y_train, predicted1, average='macro')\n",
        "\n",
        "# Calculate accuracy\n",
        "accuracy = accuracy_score(y_train, predicted1)\n",
        "\n",
        "print(conf_matrix, roc_auc, macro_f1, accuracy)\n"
      ]
    },
    {
      "cell_type": "markdown",
      "metadata": {
        "id": "ap5FDalGJ318"
      },
      "source": [
        "\n",
        "\n",
        "### Naive Bayes"
      ]
    },
    {
      "cell_type": "code",
      "execution_count": null,
      "metadata": {
        "colab": {
          "base_uri": "https://localhost:8080/",
          "height": 466
        },
        "id": "ahVJ-SBMJ-4_",
        "outputId": "0b071b97-380b-47d5-cd87-ab67d4a68d3f"
      },
      "outputs": [
        {
          "output_type": "stream",
          "name": "stdout",
          "text": [
            "[[13424  4354]\n",
            " [ 2492  8919]] 0.7683523966247504 0.7597363878209673 0.7654595909417932\n"
          ]
        },
        {
          "output_type": "display_data",
          "data": {
            "text/plain": [
              "<Figure size 640x480 with 1 Axes>"
            ],
            "image/png": "[encoded data removed]"
          },
          "metadata": {}
        }
      ],
      "source": [
        "model2 = GaussianNB()\n",
        "model2.fit(X_train, y_train)\n",
        "predictions = model2.predict(X_test)\n",
        "\n",
        "submission = pd.DataFrame({'preds': predictions, 'id': test_df['id']})\n",
        "\n",
        "submission.to_csv('/content/drive/Shareddrives/CS74/Project2/text_only-2.csv', index=False)\n",
        "predicted2 = cross_val_predict(model2, X_train, y_train, cv=5)\n",
        "\n",
        "# Calculate the confusion matrix\n",
        "conf_matrix = confusion_matrix(y_train, predicted2)\n",
        "\n",
        "# Calculate ROC curve and AUC\n",
        "false_positive_rate, true_positive_rate, thresholds = roc_curve(y_train, predicted2)\n",
        "plt.plot(false_positive_rate, true_positive_rate)\n",
        "\n",
        "roc_auc = roc_auc_score(y_train, predicted2)\n",
        "\n",
        "# Calculate macro F1 score\n",
        "macro_f1 = f1_score(y_train, predicted2, average='macro')\n",
        "\n",
        "# Calculate accuracy\n",
        "accuracy = accuracy_score(y_train, predicted2)\n",
        "\n",
        "print(conf_matrix, roc_auc, macro_f1, accuracy)"
      ]
    },
    {
      "cell_type": "markdown",
      "metadata": {
        "id": "pxgMC_15KVGk"
      },
      "source": [
        "### KNearestNeighbors"
      ]
    },
    {
      "cell_type": "code",
      "execution_count": null,
      "metadata": {
        "id": "mMJf-dQAaelS"
      },
      "outputs": [],
      "source": [
        "model3 = KNeighborsClassifier()\n",
        "model3.fit(X_train, y_train)\n",
        "predictions = model3.predict(X_test)\n",
        "# submission = pd.DataFrame({'preds': predictions, 'id': test_df['id']})\n",
        "\n",
        "predicted3 = cross_val_predict(model3, X_train, y_train, cv=5)\n",
        "\n",
        "# Calculate the confusion matrix\n",
        "conf_matrix = confusion_matrix(y_train, predicted3)\n",
        "\n",
        "# Calculate ROC curve and AUC\n",
        "false_positive_rate, true_positive_rate, thresholds = roc_curve(y_train, predicted3)\n",
        "plt.plot(false_positive_rate, true_positive_rate)\n",
        "\n",
        "roc_auc = roc_auc_score(y_train, predicted3)\n",
        "\n",
        "# Calculate macro F1 score\n",
        "macro_f1 = f1_score(y_train, predicted3, average='macro')\n",
        "\n",
        "# Calculate accuracy\n",
        "accuracy = accuracy_score(y_train, predicted3)\n",
        "\n",
        "print(conf_matrix, roc_auc, macro_f1, accuracy)\n"
      ]
    },
    {
      "cell_type": "markdown",
      "metadata": {
        "id": "G-PgN3riClHL"
      },
      "source": [
        "# Part 2"
      ]
    },
    {
      "cell_type": "markdown",
      "metadata": {
        "id": "jWnu3C0ODkYX"
      },
      "source": [
        "## Do Sentiment Analysis"
      ]
    },
    {
      "cell_type": "code",
      "execution_count": null,
      "metadata": {
        "id": "E4uTZ58xDo6y"
      },
      "outputs": [],
      "source": [
        "analyzer = SentimentIntensityAnalyzer()\n",
        "\n",
        "\n",
        "df['compound'] = [analyzer.polarity_scores(x)['compound'] for x in df['reviewText']]\n",
        "df['pos'] = [analyzer.polarity_scores(x)['pos'] for x in df['reviewText']]\n",
        "df['neg'] = [analyzer.polarity_scores(x)['neg'] for x in df['reviewText']]\n",
        "df['neu'] = [analyzer.polarity_scores(x)['neu'] for x in df['reviewText']]\n",
        "\n",
        "test_df['compound'] = [analyzer.polarity_scores(x)['compound'] for x in test_df['reviewText']]\n",
        "test_df['pos'] = [analyzer.polarity_scores(x)['pos'] for x in test_df['reviewText']]\n",
        "test_df['neg'] = [analyzer.polarity_scores(x)['neg'] for x in test_df['reviewText']]\n",
        "test_df['neu'] = [analyzer.polarity_scores(x)['neu'] for x in test_df['reviewText']]"
      ]
    },
    {
      "cell_type": "markdown",
      "metadata": {
        "id": "0GNLXoV5EKAu"
      },
      "source": [
        "## Clean Up Training Data"
      ]
    },
    {
      "cell_type": "code",
      "execution_count": null,
      "metadata": {
        "id": "EWfqlzyCEPtS"
      },
      "outputs": [],
      "source": [
        "to_exclude = ['reviewText']\n",
        "\n",
        "sent_df = df.drop(columns=to_exclude)\n",
        "test_sent_df = test_df.drop(columns=to_exclude)\n",
        "\n",
        "X_train_sent = sent_df.drop('id', axis=1)\n",
        "X_test_sent = test_sent_df.drop('id', axis=1)"
      ]
    },
    {
      "cell_type": "markdown",
      "metadata": {
        "id": "FlpsiMk9EkCm"
      },
      "source": [
        "## Train and Run Logistic Regression"
      ]
    },
    {
      "cell_type": "code",
      "execution_count": null,
      "metadata": {
        "colab": {
          "base_uri": "https://localhost:8080/",
          "height": 644
        },
        "id": "zODv6o3AEqpg",
        "outputId": "40f480ce-8c6d-46cf-e6fd-d5dd908ab49f"
      },
      "outputs": [
        {
          "output_type": "stream",
          "name": "stdout",
          "text": [
            "reviewText    wrong part. our fault.One Star\n",
            "id                                       ab1\n",
            "compound                             -0.4767\n",
            "pos                                      0.0\n",
            "neg                                    0.437\n",
            "neu                                    0.563\n",
            "Name: 1, dtype: object\n",
            "True         0\n",
            "Predicted    1\n",
            "Name: 15, dtype: int64\n",
            "[[14927  2851]\n",
            " [ 4650  6761]] 0.7160658604881978 0.7211985995439163 0.7430196306827914\n"
          ]
        },
        {
          "output_type": "display_data",
          "data": {
            "text/plain": [
              "<Figure size 640x480 with 1 Axes>"
            ],
            "image/png": "[encoded data removed]"
          },
          "metadata": {}
        }
      ],
      "source": [
        "model = LogisticRegression(max_iter=200)\n",
        "\n",
        "# just use a logistic regression\n",
        "model.fit(X_train_sent, y_train)\n",
        "predictions = model.predict(X_test_sent)\n",
        "\n",
        "\n",
        "predicted1 = cross_val_predict(model, X_train_sent, y_train, cv=5)\n",
        "# Calculate the confusion matrix\n",
        "conf_matrix = confusion_matrix(y_train, predicted1)\n",
        "\n",
        "# Calculate ROC curve and AUC\n",
        "false_positive_rate, true_positive_rate, thresholds = roc_curve(y_train, predicted1)\n",
        "plt.plot(false_positive_rate, true_positive_rate)\n",
        "\n",
        "roc_auc = roc_auc_score(y_train, predicted1)\n",
        "\n",
        "# Calculate macro F1 score\n",
        "macro_f1 = f1_score(y_train, predicted1, average='macro')\n",
        "\n",
        "# Calculate accuracy\n",
        "accuracy = accuracy_score(y_train, predicted1)\n",
        "\n",
        "print(conf_matrix, roc_auc, macro_f1, accuracy)"
      ]
    },
    {
      "cell_type": "markdown",
      "metadata": {
        "id": "Ar1fRRlJJUDj"
      },
      "source": [
        "## Combine text and sentiment data"
      ]
    },
    {
      "cell_type": "code",
      "execution_count": null,
      "metadata": {
        "id": "dOf8Zlk4JXkz"
      },
      "outputs": [],
      "source": [
        "X_train_combo = pd.concat([X_train, X_train_sent], axis=1)\n",
        "X_test_combo = pd.concat([X_test, X_test_sent], axis=1)"
      ]
    },
    {
      "cell_type": "markdown",
      "metadata": {
        "id": "m2idV6WbMgsZ"
      },
      "source": [
        "## Train Log Regression on Text and Sentiment Data"
      ]
    },
    {
      "cell_type": "code",
      "execution_count": null,
      "metadata": {
        "id": "zXNLU8iTMkrR"
      },
      "outputs": [],
      "source": [
        "model = LogisticRegression(max_iter=200)\n",
        "\n",
        "model.fit(X_train_combo, y_train)\n",
        "predictions = model.predict(X_test_combo)\n",
        "\n",
        "submission = pd.DataFrame({'preds': predictions, 'id': test_df['id']})\n",
        "\n",
        "submission.to_csv('/content/drive/Shareddrives/CS74/Project2/text_w_sentiment.csv', index=False)\n",
        "\n",
        "predicted1 = cross_val_predict(model, X_train_combo, y_train, cv=5)\n",
        "# Calculate the confusion matrix\n",
        "conf_matrix = confusion_matrix(y_train, predicted1)\n",
        "\n",
        "# Calculate ROC curve and AUC\n",
        "false_positive_rate, true_positive_rate, thresholds = roc_curve(y_train, predicted1)\n",
        "plt.plot(false_positive_rate, true_positive_rate)\n",
        "\n",
        "roc_auc = roc_auc_score(y_train, predicted1)\n",
        "\n",
        "# Calculate macro F1 score\n",
        "macro_f1 = f1_score(y_train, predicted1, average='macro')\n",
        "\n",
        "# Calculate accuracy\n",
        "accuracy = accuracy_score(y_train, predicted1)\n",
        "\n",
        "print(conf_matrix, roc_auc, macro_f1, accuracy)"
      ]
    }
  ],
  "metadata": {
    "accelerator": "TPU",
    "colab": {
      "provenance": [],
      "toc_visible": true
    },
    "kernelspec": {
      "display_name": "Python 3",
      "name": "python3"
    },
    "language_info": {
      "name": "python"
    }
  },
  "nbformat": 4,
  "nbformat_minor": 0
}
